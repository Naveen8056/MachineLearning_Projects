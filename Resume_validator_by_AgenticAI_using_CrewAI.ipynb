{
  "nbformat": 4,
  "nbformat_minor": 0,
  "metadata": {
    "colab": {
      "provenance": [],
      "gpuType": "T4",
      "include_colab_link": true
    },
    "kernelspec": {
      "name": "python3",
      "display_name": "Python 3"
    },
    "language_info": {
      "name": "python"
    },
    "accelerator": "GPU"
  },
  "cells": [
    {
      "cell_type": "markdown",
      "metadata": {
        "id": "view-in-github",
        "colab_type": "text"
      },
      "source": [
        "<a href=\"https://colab.research.google.com/github/Naveen8056/MachineLearning_Projects/blob/main/Resume_validator_by_AgenticAI_using_CrewAI.ipynb\" target=\"_parent\"><img src=\"https://colab.research.google.com/assets/colab-badge.svg\" alt=\"Open In Colab\"/></a>"
      ]
    },
    {
      "cell_type": "code",
      "execution_count": 30,
      "metadata": {
        "id": "IbOnaArcN8x9"
      },
      "outputs": [],
      "source": [
        "!pip install -q crewai"
      ]
    },
    {
      "cell_type": "code",
      "source": [
        "!pip install -q langchain langchain_community google-genai"
      ],
      "metadata": {
        "id": "bIV4YPiAOkSK"
      },
      "execution_count": 31,
      "outputs": []
    },
    {
      "cell_type": "code",
      "source": [
        "from crewai import Agent,Task,Crew\n",
        "from langchain_community.chat_models import ChatLiteLLM\n",
        "import os\n",
        "\n",
        "os.environ[\"GOOGLE_API_KEY\"]=\"Your_API_Key\"\n",
        "\n",
        "llm = ChatLiteLLM(\n",
        "    model = \"gemini/gemini-1.5-flash\",\n",
        "    temperature = 0.4,\n",
        "    api_key = os.environ[\"GOOGLE_API_KEY\"]\n",
        ")\n"
      ],
      "metadata": {
        "id": "5zAIK-TrO1FN"
      },
      "execution_count": 32,
      "outputs": []
    },
    {
      "cell_type": "code",
      "source": [
        "from google.colab import files\n",
        "uploaded=files.upload()"
      ],
      "metadata": {
        "colab": {
          "base_uri": "https://localhost:8080/",
          "height": 73
        },
        "collapsed": true,
        "id": "IOeR4I_Et8KY",
        "outputId": "805d95be-ae88-4393-cca2-7a121cacf013"
      },
      "execution_count": 33,
      "outputs": [
        {
          "output_type": "display_data",
          "data": {
            "text/plain": [
              "<IPython.core.display.HTML object>"
            ],
            "text/html": [
              "\n",
              "     <input type=\"file\" id=\"files-3d2d7368-1058-4b37-98b9-f2d12549597f\" name=\"files[]\" multiple disabled\n",
              "        style=\"border:none\" />\n",
              "     <output id=\"result-3d2d7368-1058-4b37-98b9-f2d12549597f\">\n",
              "      Upload widget is only available when the cell has been executed in the\n",
              "      current browser session. Please rerun this cell to enable.\n",
              "      </output>\n",
              "      <script>// Copyright 2017 Google LLC\n",
              "//\n",
              "// Licensed under the Apache License, Version 2.0 (the \"License\");\n",
              "// you may not use this file except in compliance with the License.\n",
              "// You may obtain a copy of the License at\n",
              "//\n",
              "//      http://www.apache.org/licenses/LICENSE-2.0\n",
              "//\n",
              "// Unless required by applicable law or agreed to in writing, software\n",
              "// distributed under the License is distributed on an \"AS IS\" BASIS,\n",
              "// WITHOUT WARRANTIES OR CONDITIONS OF ANY KIND, either express or implied.\n",
              "// See the License for the specific language governing permissions and\n",
              "// limitations under the License.\n",
              "\n",
              "/**\n",
              " * @fileoverview Helpers for google.colab Python module.\n",
              " */\n",
              "(function(scope) {\n",
              "function span(text, styleAttributes = {}) {\n",
              "  const element = document.createElement('span');\n",
              "  element.textContent = text;\n",
              "  for (const key of Object.keys(styleAttributes)) {\n",
              "    element.style[key] = styleAttributes[key];\n",
              "  }\n",
              "  return element;\n",
              "}\n",
              "\n",
              "// Max number of bytes which will be uploaded at a time.\n",
              "const MAX_PAYLOAD_SIZE = 100 * 1024;\n",
              "\n",
              "function _uploadFiles(inputId, outputId) {\n",
              "  const steps = uploadFilesStep(inputId, outputId);\n",
              "  const outputElement = document.getElementById(outputId);\n",
              "  // Cache steps on the outputElement to make it available for the next call\n",
              "  // to uploadFilesContinue from Python.\n",
              "  outputElement.steps = steps;\n",
              "\n",
              "  return _uploadFilesContinue(outputId);\n",
              "}\n",
              "\n",
              "// This is roughly an async generator (not supported in the browser yet),\n",
              "// where there are multiple asynchronous steps and the Python side is going\n",
              "// to poll for completion of each step.\n",
              "// This uses a Promise to block the python side on completion of each step,\n",
              "// then passes the result of the previous step as the input to the next step.\n",
              "function _uploadFilesContinue(outputId) {\n",
              "  const outputElement = document.getElementById(outputId);\n",
              "  const steps = outputElement.steps;\n",
              "\n",
              "  const next = steps.next(outputElement.lastPromiseValue);\n",
              "  return Promise.resolve(next.value.promise).then((value) => {\n",
              "    // Cache the last promise value to make it available to the next\n",
              "    // step of the generator.\n",
              "    outputElement.lastPromiseValue = value;\n",
              "    return next.value.response;\n",
              "  });\n",
              "}\n",
              "\n",
              "/**\n",
              " * Generator function which is called between each async step of the upload\n",
              " * process.\n",
              " * @param {string} inputId Element ID of the input file picker element.\n",
              " * @param {string} outputId Element ID of the output display.\n",
              " * @return {!Iterable<!Object>} Iterable of next steps.\n",
              " */\n",
              "function* uploadFilesStep(inputId, outputId) {\n",
              "  const inputElement = document.getElementById(inputId);\n",
              "  inputElement.disabled = false;\n",
              "\n",
              "  const outputElement = document.getElementById(outputId);\n",
              "  outputElement.innerHTML = '';\n",
              "\n",
              "  const pickedPromise = new Promise((resolve) => {\n",
              "    inputElement.addEventListener('change', (e) => {\n",
              "      resolve(e.target.files);\n",
              "    });\n",
              "  });\n",
              "\n",
              "  const cancel = document.createElement('button');\n",
              "  inputElement.parentElement.appendChild(cancel);\n",
              "  cancel.textContent = 'Cancel upload';\n",
              "  const cancelPromise = new Promise((resolve) => {\n",
              "    cancel.onclick = () => {\n",
              "      resolve(null);\n",
              "    };\n",
              "  });\n",
              "\n",
              "  // Wait for the user to pick the files.\n",
              "  const files = yield {\n",
              "    promise: Promise.race([pickedPromise, cancelPromise]),\n",
              "    response: {\n",
              "      action: 'starting',\n",
              "    }\n",
              "  };\n",
              "\n",
              "  cancel.remove();\n",
              "\n",
              "  // Disable the input element since further picks are not allowed.\n",
              "  inputElement.disabled = true;\n",
              "\n",
              "  if (!files) {\n",
              "    return {\n",
              "      response: {\n",
              "        action: 'complete',\n",
              "      }\n",
              "    };\n",
              "  }\n",
              "\n",
              "  for (const file of files) {\n",
              "    const li = document.createElement('li');\n",
              "    li.append(span(file.name, {fontWeight: 'bold'}));\n",
              "    li.append(span(\n",
              "        `(${file.type || 'n/a'}) - ${file.size} bytes, ` +\n",
              "        `last modified: ${\n",
              "            file.lastModifiedDate ? file.lastModifiedDate.toLocaleDateString() :\n",
              "                                    'n/a'} - `));\n",
              "    const percent = span('0% done');\n",
              "    li.appendChild(percent);\n",
              "\n",
              "    outputElement.appendChild(li);\n",
              "\n",
              "    const fileDataPromise = new Promise((resolve) => {\n",
              "      const reader = new FileReader();\n",
              "      reader.onload = (e) => {\n",
              "        resolve(e.target.result);\n",
              "      };\n",
              "      reader.readAsArrayBuffer(file);\n",
              "    });\n",
              "    // Wait for the data to be ready.\n",
              "    let fileData = yield {\n",
              "      promise: fileDataPromise,\n",
              "      response: {\n",
              "        action: 'continue',\n",
              "      }\n",
              "    };\n",
              "\n",
              "    // Use a chunked sending to avoid message size limits. See b/62115660.\n",
              "    let position = 0;\n",
              "    do {\n",
              "      const length = Math.min(fileData.byteLength - position, MAX_PAYLOAD_SIZE);\n",
              "      const chunk = new Uint8Array(fileData, position, length);\n",
              "      position += length;\n",
              "\n",
              "      const base64 = btoa(String.fromCharCode.apply(null, chunk));\n",
              "      yield {\n",
              "        response: {\n",
              "          action: 'append',\n",
              "          file: file.name,\n",
              "          data: base64,\n",
              "        },\n",
              "      };\n",
              "\n",
              "      let percentDone = fileData.byteLength === 0 ?\n",
              "          100 :\n",
              "          Math.round((position / fileData.byteLength) * 100);\n",
              "      percent.textContent = `${percentDone}% done`;\n",
              "\n",
              "    } while (position < fileData.byteLength);\n",
              "  }\n",
              "\n",
              "  // All done.\n",
              "  yield {\n",
              "    response: {\n",
              "      action: 'complete',\n",
              "    }\n",
              "  };\n",
              "}\n",
              "\n",
              "scope.google = scope.google || {};\n",
              "scope.google.colab = scope.google.colab || {};\n",
              "scope.google.colab._files = {\n",
              "  _uploadFiles,\n",
              "  _uploadFilesContinue,\n",
              "};\n",
              "})(self);\n",
              "</script> "
            ]
          },
          "metadata": {}
        },
        {
          "output_type": "stream",
          "name": "stdout",
          "text": [
            "Saving NAVEEN-RESUME.pdf to NAVEEN-RESUME (1).pdf\n"
          ]
        }
      ]
    },
    {
      "cell_type": "code",
      "source": [
        "import pdfplumber\n",
        "import io"
      ],
      "metadata": {
        "id": "uk38fzJ3uZ1i"
      },
      "execution_count": 34,
      "outputs": []
    },
    {
      "cell_type": "code",
      "source": [
        "for file_name in uploaded:\n",
        "  file_byte=io.BytesIO(uploaded[file_name])\n",
        "  with pdfplumber.open(file_byte) as pdf:\n",
        "    resume_text=''.join([page.extract_text() or '' for page in pdf.pages]).strip()"
      ],
      "metadata": {
        "id": "AuveWvNTQZ1A"
      },
      "execution_count": 35,
      "outputs": []
    },
    {
      "cell_type": "code",
      "source": [
        "#Agent 1 : Evaluator\n",
        "evaluator = Agent(\n",
        "    role = \"Resume Evaluator\",\n",
        "    goal = \"Evaluate resume for AI/ML job fit\",\n",
        "    backstory = \"Expert in talent assesment and ML hiring\",\n",
        "    llm = llm\n",
        ")"
      ],
      "metadata": {
        "id": "YUKNa47ARE0t"
      },
      "execution_count": 36,
      "outputs": []
    },
    {
      "cell_type": "code",
      "source": [
        "#Agent 2 : Reply Writer\n",
        "Replier = Agent(\n",
        "    role = \"Reply Writer\",\n",
        "    goal = \"Write a polite reply to the candidates\",\n",
        "    backstory=\"An HR pro in reviewing resume and reply the candidates\",\n",
        "    llm = llm\n",
        ")\n"
      ],
      "metadata": {
        "id": "8kFPV3qqRhDi"
      },
      "execution_count": 37,
      "outputs": []
    },
    {
      "cell_type": "code",
      "source": [
        "#Task 1 : Evaluation\n",
        "evaluation_task = Task(\n",
        "    description = f\"\"\" Check if the following resume is fit for AI/ML Engineer Role.\n",
        "    Respond with YES or NO and a short reason:\\n\\n{resume_text}\"\"\",\n",
        "    agent = evaluator,\n",
        "    expected_output = \"YES or NO with short reason\"\n",
        ")"
      ],
      "metadata": {
        "id": "Vn73EinRSHd_"
      },
      "execution_count": 38,
      "outputs": []
    },
    {
      "cell_type": "code",
      "source": [
        "#Task 2 : Write Reply\n",
        "reply_task = Task(\n",
        "    description = \"\"\"using the evaluation result, write:\n",
        "    - An acceptance message if YES\n",
        "    - A rejection message if NO\"\"\",\n",
        "    agent = Replier,\n",
        "    expected_output = \"Acceptance or Rejection message\"\n",
        ")\n"
      ],
      "metadata": {
        "id": "44UqwrI5TZe_"
      },
      "execution_count": 39,
      "outputs": []
    },
    {
      "cell_type": "code",
      "source": [
        "crew = Crew(\n",
        "    agents = [evaluator,Replier],\n",
        "    tasks =[evaluation_task,reply_task]\n",
        ")"
      ],
      "metadata": {
        "id": "zlrfKWeoU-cn"
      },
      "execution_count": 40,
      "outputs": []
    },
    {
      "cell_type": "code",
      "source": [
        "result = crew.kickoff()\n",
        "print(\"\\nFinal Message to the Candidate: \\n\")\n",
        "print(result)"
      ],
      "metadata": {
        "colab": {
          "base_uri": "https://localhost:8080/"
        },
        "id": "8DPMeFmvVO6w",
        "outputId": "37cf3a94-9686-4ca8-8853-690f8917d417"
      },
      "execution_count": 41,
      "outputs": [
        {
          "output_type": "stream",
          "name": "stdout",
          "text": [
            "\n",
            "Final Message to the Candidate: \n",
            "\n",
            "Subject: Exciting News Regarding Your Application for AI/ML Engineer at [Company Name]\n",
            "\n",
            "Dear [Candidate Name],\n",
            "\n",
            "We are thrilled to inform you that your application for the AI/ML Engineer position at [Company Name] has been successful. Your resume clearly demonstrated a strong skill set and impressive projects, particularly your \"AI Resume Analyzer,\" which showcased your expertise in LLMs, LangChain, and prompt engineering.  Your proficiency in Python and C++ further solidified your candidacy.  We were particularly impressed with [mention a specific detail from the resume that stood out, e.g.,  the innovative approach to problem-solving in your project, or a specific technical achievement].\n",
            "\n",
            "While your education is still in progress, the quality and relevance of your projects more than compensate for the lack of formal work experience. We believe you possess the potential to make significant contributions to our team.\n",
            "\n",
            "We would like to invite you to schedule a virtual interview with [Interviewer Name/Team] to discuss the role further. Please let us know your availability for a call in the coming days.  You can reply to this email with your preferred dates and times.\n",
            "\n",
            "We look forward to speaking with you soon.\n",
            "\n",
            "Sincerely,\n",
            "\n",
            "The [Company Name] Hiring Team\n"
          ]
        }
      ]
    }
  ]
}